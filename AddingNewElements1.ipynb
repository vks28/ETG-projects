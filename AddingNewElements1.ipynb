{
  "nbformat": 4,
  "nbformat_minor": 0,
  "metadata": {
    "colab": {
      "name": "AddingNewElements1.ipynb",
      "provenance": [],
      "collapsed_sections": []
    },
    "kernelspec": {
      "name": "python3",
      "display_name": "Python 3"
    },
    "language_info": {
      "name": "python"
    }
  },
  "cells": [
    {
      "cell_type": "markdown",
      "metadata": {
        "id": "jFge5O9U7PdP"
      },
      "source": [
        "Read data from json"
      ]
    },
    {
      "cell_type": "code",
      "metadata": {
        "id": "HIdZ0z4U9s2O"
      },
      "source": [
        "import json"
      ],
      "execution_count": 11,
      "outputs": []
    },
    {
      "cell_type": "code",
      "metadata": {
        "id": "boIHtPjg7UVt"
      },
      "source": [
        "fd = open(\"data.json\" , 'r')\n",
        "r = fd.read()\n",
        "fd.close()\n",
        "data = json.loads(r)\n"
      ],
      "execution_count": 12,
      "outputs": []
    },
    {
      "cell_type": "markdown",
      "metadata": {
        "id": "FnFB5fZA-AsZ"
      },
      "source": [
        "Adding elements to inventory"
      ]
    },
    {
      "cell_type": "code",
      "metadata": {
        "colab": {
          "base_uri": "https://localhost:8080/"
        },
        "id": "ynSPatFO-HQz",
        "outputId": "d887efda-9575-4b18-b1b4-aaa983641e2e"
      },
      "source": [
        "pro_id = int(input(\"Enter product id\"))\n",
        "name=str(input(\"Enter name of product\"))\n",
        "category=str(input(\"Enter the category of product\"))\n",
        "quantity=int(input(\"Enter the quantity\"))\n",
        "price=int(input(\"Enter the price of product\"))\n",
        "mdate=str(input(\"Enter manufacturing date of product\"))\n",
        "exdate=str(input(\"Enter expiry date of product\"))\n",
        "rating=int(input(\"enter rating of product\"))\n",
        "data[pro_id]={'name' : name ,'category' : category , 'quantity' : quantity , 'price' : price , 'mdate' : mdate , 'exdate' : exdate , 'rating' : rating}\n"
      ],
      "execution_count": 13,
      "outputs": [
        {
          "name": "stdout",
          "output_type": "stream",
          "text": [
            "Enter product id22501\n",
            "Enter name of productcake\n",
            "Enter the category of productfood\n",
            "Enter the quantity60\n",
            "Enter the price of product400\n",
            "Enter manufacturing date of product7-07-2020\n",
            "Enter expiry date of product8-07-2020\n",
            "enter rating of product3\n"
          ]
        }
      ]
    },
    {
      "cell_type": "markdown",
      "metadata": {
        "id": "zraqHjTQA8pI"
      },
      "source": [
        "converting dictionary to json file"
      ]
    },
    {
      "cell_type": "code",
      "metadata": {
        "id": "HJ1yxEKdCUAF"
      },
      "source": [
        "js = json.dumps(data)\n",
        "fd = open(\"data.json\" , 'w')\n",
        "fd.write(js)\n",
        "fd.close()"
      ],
      "execution_count": 14,
      "outputs": []
    }
  ]
}