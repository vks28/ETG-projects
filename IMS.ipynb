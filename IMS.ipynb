{
  "nbformat": 4,
  "nbformat_minor": 0,
  "metadata": {
    "colab": {
      "name": "IMS.ipynb",
      "provenance": [],
      "collapsed_sections": []
    },
    "kernelspec": {
      "name": "python3",
      "display_name": "Python 3"
    },
    "language_info": {
      "name": "python"
    }
  },
  "cells": [
    {
      "cell_type": "code",
      "metadata": {
        "id": "nHEnEVRwfiHQ"
      },
      "source": [
        "data =    {11011 : {\"name\" : \"Oreo\" , \"category\" : \"Biscuits\" , \"quantity\" : 50 , \"price\" : 10 , \"mdate\" : \"28-05-2020\" , \"exdate\" : \"28-05-2021\" ,\"rating\" : 3},\n",
        "           11012 : {\"name\" : \"Good-day\" , \"category\" : \"Biscuits\" , \"quantity\" : 500 , \"price\" : 15 , \"mdate\" : \"28-06-2020\" , \"exdate\" : \"28-07-2021\" ,\"rating\" : 3},\n",
        "           11013 : {\"name\" : \"Coco-cola\" , \"category\" : \"Cooldrinks\" , \"quantity\" : 20 , \"price\" : 10 , \"mdate\" : \"22-04-2020\" , \"exdate\" : \"28-05-2022\" ,\"rating\" : 4},\n",
        "           11014 : {\"name\" : \"Sprite\" , \"category\" : \"Cooldrinks\" , \"quantity\" : 30 , \"price\" : 11 , \"mdate\" : \"10-06-2020\" , \"exdate\" : \"10-06-2022\" ,\"rating\" : 3},\n",
        "           11015 : {\"name\" : \"Lays\" , \"category\" : \"Chips\" , \"quantity\" : 150 , \"price\" : 10 , \"mdate\" : \"28-05-2018\" , \"exdate\" : \"28-05-2021\" ,\"rating\" : 4},\n",
        "           11016 : {\"name\" : \"Cheetos\" , \"category\" : \"Chips\" , \"quantity\" : 100 , \"price\" : 10 , \"mdate\" : \"28-05-2017\" , \"exdate\" : \"28-05-2020\" ,\"rating\" : 3},\n",
        "           11017 : {\"name\" : \"KitKat\" , \"category\" : \"Chocolates\" , \"quantity\" : 80 , \"price\" : 15 , \"mdate\" : \"29-03-2016\" , \"exdate\" : \"28-05-2020\" ,\"rating\" : 5},\n",
        "           11018 : {\"name\" : \"Fivestar\" , \"category\" : \"Chocolates\" , \"quantity\" : 250 , \"price\" : 5 , \"mdate\" : \"28-02-2017\" , \"exdate\" : \"28-05-2019\" ,\"rating\" : 4},\n",
        "           11019 : {\"name\" : \"Softy\" , \"category\" : \"IceCreams\" , \"quantity\" : 20 , \"price\" : 20 , \"mdate\" : \"28-05-2019\" , \"exdate\" : \"28-05-2020\" ,\"rating\" : 4},\n",
        "           11020 : {\"name\" : \"Cornetto\" , \"category\" : \"IceCreams\" , \"quantity\" : 40 , \"price\" : 30 , \"mdate\" : \"28-05-2018\" , \"exdate\" : \"28-05-2019\" ,\"rating\" : 4},\n",
        "           12011 : {\"name\" : \"Pencil\" , \"category\" : \"Stationary\" , \"quantity\" : 60 , \"price\" : 3 , \"mdate\" : \"28-05-2004\" , \"exdate\" : \"28-05-2020\" ,\"rating\" : 4},\n",
        "           12012 : {\"name\" : \"Pen\" , \"category\" : \"Stationary\" , \"quantity\" : 70 , \"price\" : 5 , \"mdate\" : \"28-05-2014\" , \"exdate\" : \"28-05-2020\" ,\"rating\" : 5},\n",
        "           12013 : {\"name\" : \"Eraser\" , \"category\" : \"Stationary\" , \"quantity\" : 600 , \"price\" : 5 , \"mdate\" : \"28-05-2004\" , \"exdate\" : \"28-05-2022\" ,\"rating\" : 4},\n",
        "           12014 : {\"name\" : \"Penpencil\" , \"category\" : \"Stationary\" , \"quantity\" : 160 , \"price\" : 10 , \"mdate\" : \"28-05-2006\" , \"exdate\" : \"10-06-2020\" ,\"rating\" : 3},\n",
        "           12015 : {\"name\" : \"Sharpener\" , \"category\" : \"Stationary\" , \"quantity\" : 80 , \"price\" : 5 , \"mdate\" : \"28-05-2000\" , \"exdate\" : \"27-09-2020\" ,\"rating\" : 4},\n",
        "           12016 : {\"name\" : \"Sketch-pens\" , \"category\" : \"Stationary\" , \"quantity\" : 70 , \"price\" : 15 , \"mdate\" : \"28-05-2004\" , \"exdate\" : \"28-05-2008\" ,\"rating\" : 4},\n",
        "           12017 : {\"name\" : \"Watercolors\" , \"category\" : \"Stationary\" , \"quantity\" : 260 , \"price\" : 30 , \"mdate\" : \"28-05-2014\" , \"exdate\" : \"28-05-2020\" ,\"rating\" : 4},\n",
        "           12018 : {\"name\" : \"Gliters\" , \"category\" : \"Stationary\" , \"quantity\" : 30 , \"price\" : 100 , \"mdate\" : \"28-05-2004\" , \"exdate\" : \"28-05-2005\" ,\"rating\" : 5},\n",
        "           12019 : {\"name\" : \"Books\" , \"category\" : \"Stationary\" , \"quantity\" : 360 , \"price\" : 12 , \"mdate\" : \"28-05-2004\" , \"exdate\" : \"28-05-2020\" ,\"rating\" : 5},\n",
        "           12020 : {\"name\" : \"Pouches\" , \"category\" : \"Stationary\" , \"quantity\" : 40 , \"price\" : 20 , \"mdate\" : \"28-05-2004\" , \"exdate\" : \"28-05-2010\" ,\"rating\" : 4},\n",
        "           13011 : {\"name\" : \"Soap\" , \"category\" : \"Toiletries\" , \"quantity\" : 40 , \"price\" : 25 , \"mdate\" : \"28-05-2014\" , \"exdate\" : \"28-05-2020\" ,\"rating\" : 4},\n",
        "           13012 : {\"name\" : \"Shampoo\" , \"category\" : \"Toiletries\" , \"quantity\" : 140 , \"price\" : 125 , \"mdate\" : \"28-05-2014\" , \"exdate\" : \"28-05-2024\" ,\"rating\" : 3},\n",
        "           13013 : {\"name\" : \"Bodywash\" , \"category\" : \"Toiletries\" , \"quantity\" : 30 , \"price\" : 145 , \"mdate\" : \"28-05-2010\" , \"exdate\" : \"28-05-2020\" ,\"rating\" : 4},\n",
        "           13014 : {\"name\" : \"Conditioner\" , \"category\" : \"Toiletries\" , \"quantity\" : 20 , \"price\" : 250 , \"mdate\" : \"28-05-2014\" , \"exdate\" : \"28-05-2015\" ,\"rating\" : 5},\n",
        "           13015 : {\"name\" : \"Handwash\" , \"category\" : \"Toiletries\" , \"quantity\" : 440 , \"price\" : 30 , \"mdate\" : \"28-05-2014\" , \"exdate\" : \"28-05-2024\" ,\"rating\" : 4},\n",
        "           13016 : {\"name\" : \"WashingPowder\" , \"category\" : \"Toiletries\" , \"quantity\" : 140 , \"price\" : 75 , \"mdate\" : \"28-05-2014\" , \"exdate\" : \"28-05-2016\" ,\"rating\" : 4},\n",
        "           13017 : {\"name\" : \"Sprays\" , \"category\" : \"Toiletries\" , \"quantity\" : 240 , \"price\" : 180 , \"mdate\" : \"28-05-2013\" , \"exdate\" : \"28-05-2015\" ,\"rating\" : 3},\n",
        "           13018 : {\"name\" : \"Facewash\" , \"category\" : \"Toiletries\" , \"quantity\" : 80 , \"price\" : 45 , \"mdate\" : \"28-05-2014\" , \"exdate\" : \"10-05-2020\" ,\"rating\" : 4},\n",
        "           13019 : {\"name\" : \"Toothpaste\" , \"category\" : \"Toiletries\" , \"quantity\" : 540 , \"price\" : 25 , \"mdate\" : \"28-05-2014\" , \"exdate\" : \"28-05-2019\" ,\"rating\" : 5},\n",
        "           13020 : {\"name\" : \"BodyLotion\" , \"category\" : \"Toiletries\" , \"quantity\" : 440 , \"price\" : 230 , \"mdate\" : \"28-05-2014\" , \"exdate\" : \"28-05-2020\" ,\"rating\" : 4},\n",
        "           14011 : {\"name\" : \"Scissors\" , \"category\" : \"HomeStuff\" , \"quantity\" : 40 , \"price\" : 35 , \"mdate\" : \"28-05-2014\" , \"exdate\" : \"28-05-2034\" ,\"rating\" : 4},\n",
        "           14012 : {\"name\" : \"Candles\" , \"category\" : \"HomeStuff\" , \"quantity\" : 140 , \"price\" : 60 , \"mdate\" : \"28-05-2014\" , \"exdate\" : \"28-05-2020\" ,\"rating\" : 5},\n",
        "           14013 : {\"name\" : \"Shoepolish\" , \"category\" : \"HomeStuff\" , \"quantity\" : 70 , \"price\" : 55 , \"mdate\" : \"28-05-2014\" , \"exdate\" : \"28-05-2019\" ,\"rating\" : 4},\n",
        "           14014 : {\"name\" : \"GasLighter\" , \"category\" : \"HomeStuff\" , \"quantity\" : 340 , \"price\" : 85 , \"mdate\" : \"28-05-2020\" , \"exdate\" : \"28-05-2030\" ,\"rating\" : 3},\n",
        "           14015 : {\"name\" : \"Torch\" , \"category\" : \"HomeStuff\" , \"quantity\" : 240 , \"price\" : 60 , \"mdate\" : \"28-05-2014\" , \"exdate\" : \"28-05-2024\" ,\"rating\" : 4},\n",
        "           14016 : {\"name\" : \"SewingKit\" , \"category\" : \"HomeStuff\" , \"quantity\" : 90 , \"price\" : 90 , \"mdate\" : \"28-05-2014\" , \"exdate\" : \"28-05-2029\" ,\"rating\" : 4},\n",
        "           14017 : {\"name\" : \"SpoonStand\" , \"category\" : \"HomeStuff\" , \"quantity\" : 340 , \"price\" : 40 , \"mdate\" : \"28-05-2014\" , \"exdate\" : \"28-05-2024\" ,\"rating\" : 3},\n",
        "           14018 : {\"name\" : \"Masks\" , \"category\" : \"HomeStuff\" , \"quantity\" : 840 , \"price\" : 15 , \"mdate\" : \"28-05-2021\" , \"exdate\" : \"28-05-2022\" ,\"rating\" : 5},\n",
        "           14019 : {\"name\" : \"WaterBottles\" , \"category\" : \"HomeStuff\" , \"quantity\" : 100 , \"price\" : 40 , \"mdate\" : \"28-05-2014\" , \"exdate\" : \"28-05-2018\" ,\"rating\" : 4},\n",
        "           14020 : {\"name\" : \"MatchBoxes\" , \"category\" : \"HomeStuff\" , \"quantity\" : 640 , \"price\" : 5 , \"mdate\" : \"28-05-2014\" , \"exdate\" : \"28-05-2034\" ,\"rating\" : 4}}\n",
        "           \n",
        "           \n",
        "           \n",
        "           \n",
        "           \n",
        "\n",
        "           \n",
        "           \n",
        "           \n",
        "           \n",
        "           \n",
        "           \n",
        "           \n",
        "           \n",
        "           \n",
        "           \n",
        "           \n",
        "           \n",
        "           \n",
        "           "
      ],
      "execution_count": 8,
      "outputs": []
    },
    {
      "cell_type": "code",
      "metadata": {
        "id": "vkyFKXSEt3NN"
      },
      "source": [
        "import json\n",
        "js=json.dumps(data)\n",
        "fd = open(\"data.json\",'w')\n",
        "fd.write(js)\n",
        "fd.close()"
      ],
      "execution_count": 9,
      "outputs": []
    },
    {
      "cell_type": "code",
      "metadata": {
        "id": "GiT4FwMkuHV1"
      },
      "source": [
        "fd = open(\"data.json\", 'r')\n",
        "text = fd.read()\n",
        "fd.close()"
      ],
      "execution_count": 10,
      "outputs": []
    },
    {
      "cell_type": "code",
      "metadata": {
        "colab": {
          "base_uri": "https://localhost:8080/",
          "height": 139
        },
        "id": "_GTOqC20RBUA",
        "outputId": "f5bf3f26-2a50-463d-bc31-01968f3c559c"
      },
      "source": [
        "js"
      ],
      "execution_count": 11,
      "outputs": [
        {
          "output_type": "execute_result",
          "data": {
            "application/vnd.google.colaboratory.intrinsic+json": {
              "type": "string"
            },
            "text/plain": [
              "'{\"11011\": {\"name\": \"Oreo\", \"category\": \"Biscuits\", \"quantity\": 50, \"price\": 10, \"mdate\": \"28-05-2020\", \"exdate\": \"28-05-2021\", \"rating\": 3}, \"11012\": {\"name\": \"Good-day\", \"category\": \"Biscuits\", \"quantity\": 500, \"price\": 15, \"mdate\": \"28-06-2020\", \"exdate\": \"28-07-2021\", \"rating\": 3}, \"11013\": {\"name\": \"Coco-cola\", \"category\": \"Cooldrinks\", \"quantity\": 20, \"price\": 10, \"mdate\": \"22-04-2020\", \"exdate\": \"28-05-2022\", \"rating\": 4}, \"11014\": {\"name\": \"Sprite\", \"category\": \"Cooldrinks\", \"quantity\": 30, \"price\": 11, \"mdate\": \"10-06-2020\", \"exdate\": \"10-06-2022\", \"rating\": 3}, \"11015\": {\"name\": \"Lays\", \"category\": \"Chips\", \"quantity\": 150, \"price\": 10, \"mdate\": \"28-05-2018\", \"exdate\": \"28-05-2021\", \"rating\": 4}, \"11016\": {\"name\": \"Cheetos\", \"category\": \"Chips\", \"quantity\": 100, \"price\": 10, \"mdate\": \"28-05-2017\", \"exdate\": \"28-05-2020\", \"rating\": 3}, \"11017\": {\"name\": \"KitKat\", \"category\": \"Chocolates\", \"quantity\": 80, \"price\": 15, \"mdate\": \"29-03-2016\", \"exdate\": \"28-05-2020\", \"rating\": 5}, \"11018\": {\"name\": \"Fivestar\", \"category\": \"Chocolates\", \"quantity\": 250, \"price\": 5, \"mdate\": \"28-02-2017\", \"exdate\": \"28-05-2019\", \"rating\": 4}, \"11019\": {\"name\": \"Softy\", \"category\": \"IceCreams\", \"quantity\": 20, \"price\": 20, \"mdate\": \"28-05-2019\", \"exdate\": \"28-05-2020\", \"rating\": 4}, \"11020\": {\"name\": \"Cornetto\", \"category\": \"IceCreams\", \"quantity\": 40, \"price\": 30, \"mdate\": \"28-05-2018\", \"exdate\": \"28-05-2019\", \"rating\": 4}, \"12011\": {\"name\": \"Pencil\", \"category\": \"Stationary\", \"quantity\": 60, \"price\": 3, \"mdate\": \"28-05-2004\", \"exdate\": \"28-05-2020\", \"rating\": 4}, \"12012\": {\"name\": \"Pen\", \"category\": \"Stationary\", \"quantity\": 70, \"price\": 5, \"mdate\": \"28-05-2014\", \"exdate\": \"28-05-2020\", \"rating\": 5}, \"12013\": {\"name\": \"Eraser\", \"category\": \"Stationary\", \"quantity\": 600, \"price\": 5, \"mdate\": \"28-05-2004\", \"exdate\": \"28-05-2022\", \"rating\": 4}, \"12014\": {\"name\": \"Penpencil\", \"category\": \"Stationary\", \"quantity\": 160, \"price\": 10, \"mdate\": \"28-05-2006\", \"exdate\": \"10-06-2020\", \"rating\": 3}, \"12015\": {\"name\": \"Sharpener\", \"category\": \"Stationary\", \"quantity\": 80, \"price\": 5, \"mdate\": \"28-05-2000\", \"exdate\": \"27-09-2020\", \"rating\": 4}, \"12016\": {\"name\": \"Sketch-pens\", \"category\": \"Stationary\", \"quantity\": 70, \"price\": 15, \"mdate\": \"28-05-2004\", \"exdate\": \"28-05-2008\", \"rating\": 4}, \"12017\": {\"name\": \"Watercolors\", \"category\": \"Stationary\", \"quantity\": 260, \"price\": 30, \"mdate\": \"28-05-2014\", \"exdate\": \"28-05-2020\", \"rating\": 4}, \"12018\": {\"name\": \"Gliters\", \"category\": \"Stationary\", \"quantity\": 30, \"price\": 100, \"mdate\": \"28-05-2004\", \"exdate\": \"28-05-2005\", \"rating\": 5}, \"12019\": {\"name\": \"Books\", \"category\": \"Stationary\", \"quantity\": 360, \"price\": 12, \"mdate\": \"28-05-2004\", \"exdate\": \"28-05-2020\", \"rating\": 5}, \"12020\": {\"name\": \"Pouches\", \"category\": \"Stationary\", \"quantity\": 40, \"price\": 20, \"mdate\": \"28-05-2004\", \"exdate\": \"28-05-2010\", \"rating\": 4}, \"13011\": {\"name\": \"Soap\", \"category\": \"Toiletries\", \"quantity\": 40, \"price\": 25, \"mdate\": \"28-05-2014\", \"exdate\": \"28-05-2020\", \"rating\": 4}, \"13012\": {\"name\": \"Shampoo\", \"category\": \"Toiletries\", \"quantity\": 140, \"price\": 125, \"mdate\": \"28-05-2014\", \"exdate\": \"28-05-2024\", \"rating\": 3}, \"13013\": {\"name\": \"Bodywash\", \"category\": \"Toiletries\", \"quantity\": 30, \"price\": 145, \"mdate\": \"28-05-2010\", \"exdate\": \"28-05-2020\", \"rating\": 4}, \"13014\": {\"name\": \"Conditioner\", \"category\": \"Toiletries\", \"quantity\": 20, \"price\": 250, \"mdate\": \"28-05-2014\", \"exdate\": \"28-05-2015\", \"rating\": 5}, \"13015\": {\"name\": \"Handwash\", \"category\": \"Toiletries\", \"quantity\": 440, \"price\": 30, \"mdate\": \"28-05-2014\", \"exdate\": \"28-05-2024\", \"rating\": 4}, \"13016\": {\"name\": \"WashingPowder\", \"category\": \"Toiletries\", \"quantity\": 140, \"price\": 75, \"mdate\": \"28-05-2014\", \"exdate\": \"28-05-2016\", \"rating\": 4}, \"13017\": {\"name\": \"Sprays\", \"category\": \"Toiletries\", \"quantity\": 240, \"price\": 180, \"mdate\": \"28-05-2013\", \"exdate\": \"28-05-2015\", \"rating\": 3}, \"13018\": {\"name\": \"Facewash\", \"category\": \"Toiletries\", \"quantity\": 80, \"price\": 45, \"mdate\": \"28-05-2014\", \"exdate\": \"10-05-2020\", \"rating\": 4}, \"13019\": {\"name\": \"Toothpaste\", \"category\": \"Toiletries\", \"quantity\": 540, \"price\": 25, \"mdate\": \"28-05-2014\", \"exdate\": \"28-05-2019\", \"rating\": 5}, \"13020\": {\"name\": \"BodyLotion\", \"category\": \"Toiletries\", \"quantity\": 440, \"price\": 230, \"mdate\": \"28-05-2014\", \"exdate\": \"28-05-2020\", \"rating\": 4}, \"14011\": {\"name\": \"Scissors\", \"category\": \"HomeStuff\", \"quantity\": 40, \"price\": 35, \"mdate\": \"28-05-2014\", \"exdate\": \"28-05-2034\", \"rating\": 4}, \"14012\": {\"name\": \"Candles\", \"category\": \"HomeStuff\", \"quantity\": 140, \"price\": 60, \"mdate\": \"28-05-2014\", \"exdate\": \"28-05-2020\", \"rating\": 5}, \"14013\": {\"name\": \"Shoepolish\", \"category\": \"HomeStuff\", \"quantity\": 70, \"price\": 55, \"mdate\": \"28-05-2014\", \"exdate\": \"28-05-2019\", \"rating\": 4}, \"14014\": {\"name\": \"GasLighter\", \"category\": \"HomeStuff\", \"quantity\": 340, \"price\": 85, \"mdate\": \"28-05-2020\", \"exdate\": \"28-05-2030\", \"rating\": 3}, \"14015\": {\"name\": \"Torch\", \"category\": \"HomeStuff\", \"quantity\": 240, \"price\": 60, \"mdate\": \"28-05-2014\", \"exdate\": \"28-05-2024\", \"rating\": 4}, \"14016\": {\"name\": \"SewingKit\", \"category\": \"HomeStuff\", \"quantity\": 90, \"price\": 90, \"mdate\": \"28-05-2014\", \"exdate\": \"28-05-2029\", \"rating\": 4}, \"14017\": {\"name\": \"SpoonStand\", \"category\": \"HomeStuff\", \"quantity\": 340, \"price\": 40, \"mdate\": \"28-05-2014\", \"exdate\": \"28-05-2024\", \"rating\": 3}, \"14018\": {\"name\": \"Masks\", \"category\": \"HomeStuff\", \"quantity\": 840, \"price\": 15, \"mdate\": \"28-05-2021\", \"exdate\": \"28-05-2022\", \"rating\": 5}, \"14019\": {\"name\": \"WaterBottles\", \"category\": \"HomeStuff\", \"quantity\": 100, \"price\": 40, \"mdate\": \"28-05-2014\", \"exdate\": \"28-05-2018\", \"rating\": 4}, \"14020\": {\"name\": \"MatchBoxes\", \"category\": \"HomeStuff\", \"quantity\": 640, \"price\": 5, \"mdate\": \"28-05-2014\", \"exdate\": \"28-05-2034\", \"rating\": 4}}'"
            ]
          },
          "metadata": {},
          "execution_count": 11
        }
      ]
    }
  ]
}