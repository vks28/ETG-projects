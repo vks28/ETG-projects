{
  "nbformat": 4,
  "nbformat_minor": 0,
  "metadata": {
    "colab": {
      "name": "SellingElements.ipynb",
      "provenance": []
    },
    "kernelspec": {
      "name": "python3",
      "display_name": "Python 3"
    },
    "language_info": {
      "name": "python"
    }
  },
  "cells": [
    {
      "cell_type": "markdown",
      "metadata": {
        "id": "cctl3RRUJgvk"
      },
      "source": [
        "Reading element from inventory"
      ]
    },
    {
      "cell_type": "code",
      "metadata": {
        "id": "-2YUavxALOn0"
      },
      "source": [
        "import json\n",
        "fd = open(\"data.json\" , 'r')\n",
        "r = fd.read()\n",
        "fd.close()\n",
        "data = json.loads(r)"
      ],
      "execution_count": 20,
      "outputs": []
    },
    {
      "cell_type": "markdown",
      "metadata": {
        "id": "nEkVj7IyLwad"
      },
      "source": [
        "asking information about products"
      ]
    },
    {
      "cell_type": "code",
      "metadata": {
        "colab": {
          "base_uri": "https://localhost:8080/"
        },
        "id": "JhQARY3iL0Rz",
        "outputId": "c0830706-6e69-46ed-b394-fb7b75388d97"
      },
      "source": [
        "p_id = str(input(\"Enter the product id\"))\n",
        "p_q = int(input(\"Enter the quantity\"))\n"
      ],
      "execution_count": 21,
      "outputs": [
        {
          "name": "stdout",
          "output_type": "stream",
          "text": [
            "Enter the product id11012\n",
            "Enter the quantity4\n"
          ]
        }
      ]
    },
    {
      "cell_type": "markdown",
      "metadata": {
        "id": "b-YtDmcNMX5T"
      },
      "source": [
        "printing product details"
      ]
    },
    {
      "cell_type": "code",
      "metadata": {
        "colab": {
          "base_uri": "https://localhost:8080/"
        },
        "id": "lvI8N5XpMahh",
        "outputId": "40a3677e-55bc-4d05-d4bd-0804a6e2c10c"
      },
      "source": [
        "print(\"product name is\" , data[p_id]['name'])\n",
        "print(\"price of the product is Rs\",data[p_id]['price'] )\n",
        "print(\"Bill\")\n",
        "print(\"Amount to be paid is Rs\" , data[p_id]['price']*p_q)\n"
      ],
      "execution_count": 26,
      "outputs": [
        {
          "output_type": "stream",
          "name": "stdout",
          "text": [
            "product name is Good-day\n",
            "price of the product is Rs 15\n",
            "Bill\n",
            "Amount to be paid is 60\n"
          ]
        }
      ]
    },
    {
      "cell_type": "markdown",
      "metadata": {
        "id": "WmO6ff-fNGNX"
      },
      "source": [
        "updating inventory"
      ]
    },
    {
      "cell_type": "code",
      "metadata": {
        "colab": {
          "base_uri": "https://localhost:8080/"
        },
        "id": "PyyC7LDyNNxM",
        "outputId": "0ad29348-58a6-4529-a84b-d09ed9b35d0c"
      },
      "source": [
        "\n",
        "data[p_id]['quantity'] = data[p_id]['quantity'] - p_q\n",
        "print(\"Inventory is successfully updated\")"
      ],
      "execution_count": 28,
      "outputs": [
        {
          "output_type": "stream",
          "name": "stdout",
          "text": [
            "Inventory is successfully updated\n"
          ]
        }
      ]
    },
    {
      "cell_type": "markdown",
      "metadata": {
        "id": "bHYKc-_6Ndf-"
      },
      "source": [
        "converting dictionary back to text format"
      ]
    },
    {
      "cell_type": "code",
      "metadata": {
        "id": "0dRj39gjNinM"
      },
      "source": [
        "js = json.dumps(data)\n",
        "fd = open(\"data.json\" , 'w')\n",
        "fd.write(js)\n",
        "fd.close()"
      ],
      "execution_count": 29,
      "outputs": []
    }
  ]
}